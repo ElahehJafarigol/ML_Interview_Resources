{
  "nbformat": 4,
  "nbformat_minor": 0,
  "metadata": {
    "colab": {
      "provenance": [],
      "collapsed_sections": [
        "AShSgMRBxU0V",
        "c1nYwLKJxjVA"
      ],
      "toc_visible": true
    },
    "kernelspec": {
      "name": "python3",
      "display_name": "Python 3"
    },
    "language_info": {
      "name": "python"
    }
  },
  "cells": [
    {
      "cell_type": "code",
      "source": [
        "import numpy as np"
      ],
      "metadata": {
        "id": "0rcK9tVND2Xu"
      },
      "execution_count": 2,
      "outputs": []
    },
    {
      "cell_type": "markdown",
      "source": [
        "# ✅ **NumPy Cheatsheet for ML Engineers**\n",
        "\n",
        "### **1. Setup**\n",
        "\n",
        "```python\n",
        "import numpy as np\n",
        "```\n",
        "\n",
        "---\n",
        "\n",
        "### **2. Array Creation**\n",
        "\n",
        "```python\n",
        "np.array([1, 2, 3])            # From list or tuple\n",
        "np.zeros((3, 4))               # 3x4 array of zeros\n",
        "np.ones((2, 2))                # 2x2 array of ones\n",
        "np.eye(3)                      # Identity matrix (3x3)\n",
        "np.full((2, 3), 7)             # Filled with a constant\n",
        "np.arange(0, 10, 2)            # [0, 2, 4, 6, 8]\n",
        "np.linspace(0, 1, 5)           # [0. , 0.25, ..., 1.]\n",
        "np.random.rand(2, 3)           # Uniform [0, 1)\n",
        "np.random.randn(2, 3)          # Standard normal\n",
        "np.random.randint(0, 10, (2,3))# Random ints in range\n",
        "```\n",
        "\n",
        "---\n",
        "\n",
        "### **3. Array Properties**\n",
        "\n",
        "```python\n",
        "a.shape        # Shape (rows, cols)\n",
        "a.ndim         # Number of dimensions\n",
        "a.size         # Total number of elements\n",
        "a.dtype        # Data type\n",
        "a.itemsize     # Size in bytes of each element\n",
        "```\n",
        "\n",
        "---\n",
        "\n",
        "### **4. Indexing & Slicing**\n",
        "\n",
        "```python\n",
        "a[0]           # First element\n",
        "a[-1]          # Last element\n",
        "a[1:4]         # Slice elements 1 to 3\n",
        "a[:, 0]        # All rows, 1st column\n",
        "a[1, :]        # 2nd row, all columns\n",
        "a[::2]         # Step slicing\n",
        "```\n",
        "\n",
        "---\n",
        "\n",
        "### **5. Boolean & Fancy Indexing**\n",
        "\n",
        "```python\n",
        "a[a > 0]               # Filter positive values\n",
        "a[(a > 1) & (a < 5)]   # Combine conditions\n",
        "np.where(a > 0, 1, 0)  # Ternary condition\n",
        "```\n",
        "\n",
        "---\n",
        "\n",
        "### **6. Reshaping & Transforming**\n",
        "\n",
        "```python\n",
        "a.reshape(2, 3)        # New shape (same size)\n",
        "a.ravel()              # Flatten\n",
        "a.flatten()            # Copy as 1D array\n",
        "a.T                    # Transpose\n",
        "a.squeeze()            # Remove singleton dims\n",
        "a.expand_dims(a, axis=0) # Add a dimension\n",
        "```\n",
        "\n",
        "---\n",
        "\n",
        "### **7. Math & Stats**\n",
        "\n",
        "```python\n",
        "np.mean(a)             # Mean\n",
        "np.median(a)           # Median\n",
        "np.std(a)              # Standard deviation\n",
        "np.var(a)              # Variance\n",
        "np.sum(a)              # Sum\n",
        "np.min(a), np.max(a)   # Min, Max\n",
        "np.argmax(a), np.argmin(a)  # Index of max/min\n",
        "np.cumsum(a)           # Cumulative sum\n",
        "np.diff(a)             # Discrete difference\n",
        "```\n",
        "\n",
        "---\n",
        "\n",
        "### **8. Arithmetic & Broadcasting**\n",
        "\n",
        "```python\n",
        "a + b                  # Elementwise addition\n",
        "a - b\n",
        "a * b\n",
        "a / b\n",
        "a ** 2                 # Square elements\n",
        "np.exp(a)              # e^a\n",
        "np.log(a)              # Natural log\n",
        "```\n",
        "\n",
        "---\n",
        "\n",
        "### **9. Linear Algebra**\n",
        "\n",
        "```python\n",
        "np.dot(a, b)           # Dot product\n",
        "a @ b                  # Matrix multiplication\n",
        "np.matmul(a, b)        # Same as @\n",
        "np.linalg.inv(a)       # Inverse\n",
        "np.linalg.det(a)       # Determinant\n",
        "np.linalg.eig(a)       # Eigenvalues/vectors\n",
        "np.trace(a)            # Sum of diagonal\n",
        "np.linalg.norm(a)      # Vector norm\n",
        "```\n",
        "\n",
        "---\n",
        "\n",
        "### **10. Combining & Splitting**\n",
        "\n",
        "```python\n",
        "np.concatenate([a, b], axis=0)\n",
        "np.vstack([a, b])      # Stack vertically\n",
        "np.hstack([a, b])      # Stack horizontally\n",
        "np.split(a, 2)\n",
        "np.array_split(a, 3)\n",
        "```\n",
        "\n",
        "---\n",
        "\n",
        "### **11. Random Sampling**\n",
        "\n",
        "```python\n",
        "np.random.seed(42)     # Reproducibility\n",
        "np.random.choice(a)    # Random element\n",
        "np.random.shuffle(a)   # Shuffle array\n",
        "```\n",
        "\n",
        "---\n",
        "\n",
        "### **12. Missing Values & NaNs**\n",
        "\n",
        "```python\n",
        "np.isnan(a)            # Check for NaNs\n",
        "np.nan_to_num(a)       # Replace NaNs with 0\n",
        "np.nanmean(a)          # Mean ignoring NaNs\n",
        "```\n",
        "\n",
        "---\n",
        "\n",
        "### **13. Useful Utilities**\n",
        "\n",
        "```python\n",
        "np.unique(a)           # Unique values\n",
        "np.sort(a)             # Sort array\n",
        "np.argsort(a)          # Indices for sort\n",
        "np.clip(a, min, max)   # Limit values\n",
        "np.allclose(a, b)      # Compare arrays\n",
        "```\n",
        "\n",
        "---\n"
      ],
      "metadata": {
        "id": "4b0VIY3uxDjd"
      }
    },
    {
      "cell_type": "markdown",
      "source": [
        "# ✅ **NumPy Interview Problems**"
      ],
      "metadata": {
        "id": "AShSgMRBxU0V"
      }
    },
    {
      "cell_type": "markdown",
      "source": [
        "### **1. Find the Missing Number**\n",
        "\n",
        "Given a NumPy array with `n` distinct integers from `1` to `n+1` with one number missing, find the missing number."
      ],
      "metadata": {
        "id": "c1nYwLKJxjVA"
      }
    },
    {
      "cell_type": "code",
      "source": [
        "import numpy as np\n",
        "def find_missing(nums: list):\n",
        "    expected_sum = np.sum(np.arange(1, len(nums) + 2, 1))\n",
        "    actual_sum = np.sum(nums)\n",
        "    missing = expected_sum - actual_sum\n",
        "    return int(missing)\n",
        "\n",
        "# Doesn't handle edge cases (e.g., empty list) gracefully.\n",
        "# np.sum() used on Python list — efficient, but a bit overkill unless you're\n",
        "# working with large arrays or already using NumPy elsewhere.\n",
        "\n",
        "# Improved code:\n",
        "def find_missing(nums):\n",
        "    if not nums:\n",
        "        return None\n",
        "    n = len(nums) + 1\n",
        "    expected_sum = n * (n + 1) // 2\n",
        "    actual_sum = sum(nums)\n",
        "    return expected_sum - actual_sum\n",
        "\n",
        "print(find_missing([1, 2, 3, 4, 6, 7, 8]))\n",
        "print(find_missing([]))"
      ],
      "metadata": {
        "id": "klyBySlOiATh"
      },
      "execution_count": null,
      "outputs": []
    },
    {
      "cell_type": "markdown",
      "source": [
        "\n",
        "### **2. Normalize a Feature Vector**\n",
        "\n",
        "Given a NumPy array of shape `(n,)`, normalize it to have a mean of 0 and standard deviation of 1.\n"
      ],
      "metadata": {
        "id": "659ZNOHVxzxe"
      }
    },
    {
      "cell_type": "code",
      "source": [
        "def normalize(input_arr:list):\n",
        "    mean = np.mean(input_arr)\n",
        "    stddev = np.sqrt(np.var(input_arr))\n",
        "    output = []\n",
        "    for n in input_arr:\n",
        "        output.append(int((n - mean) / stddev))\n",
        "    return output\n",
        "\n",
        "# int() in normalization step leads to loss of precision.\n",
        "# Should use vectorized NumPy operations for cleaner code.\n",
        "\n",
        "# Imporved code:\n",
        "def normalize(input_arr):\n",
        "    arr = np.array(input_arr)\n",
        "    return (arr - arr.mean()) / arr.std() if arr.std() != 0 else np.zeros_like(arr)\n",
        "\n",
        "print(normalize([5, 10, 3]))"
      ],
      "metadata": {
        "id": "pJ0K_RfIkKsO"
      },
      "execution_count": null,
      "outputs": []
    },
    {
      "cell_type": "markdown",
      "source": [
        "\n",
        "### **3. Matrix Row with Max Sum**\n",
        "\n",
        "Given a 2D array, return the index of the row with the maximum sum.\n",
        "\n"
      ],
      "metadata": {
        "id": "GJrUo9vox57f"
      }
    },
    {
      "cell_type": "code",
      "source": [
        "# Assumption: matrix is square\n",
        "def max_index(matrix):\n",
        "    row, col = len(matrix), len(matrix[0])\n",
        "    output = []\n",
        "    for i in range(row):\n",
        "        row_sum = 0\n",
        "        for j in range(col):\n",
        "            row_sum += matrix[i][j]\n",
        "        output.append(int(row_sum))\n",
        "    return f\"max index is: {int(np.argmax(output))} and the max value is {int(np.max(output))}\"\n",
        "\n",
        "# Input is a list of lists, not a NumPy array.\n",
        "# Not efficient: np.sum(matrix, axis=1) would be better.\n",
        "# Returns a formatted string instead of index/value separately.\n",
        "\n",
        "# Improved code:\n",
        "def max_index(matrix):\n",
        "    matrix = np.array(matrix)\n",
        "    row_sums = matrix.sum(axis=1)\n",
        "    idx = row_sums.argmax()\n",
        "    return idx, row_sums[idx]\n",
        "\n",
        "matrix = [[2, 3, 4], [4, 5, 6], [7, 8, 9]]\n",
        "print(max_index(matrix))\n",
        "\n",
        "matrix = [[2, 3, 4, 5], [3, 6, 7, 8], [9, 3, 2, 1], [3, 5, 2, 7], [2, 1, 2, 1]]\n",
        "print(max_index(matrix))"
      ],
      "metadata": {
        "id": "18Uj2pwAnuQ-"
      },
      "execution_count": null,
      "outputs": []
    },
    {
      "cell_type": "markdown",
      "source": [
        "### **4. One-Hot Encoding**\n",
        "\n",
        "Given an array of class labels like `[0, 2, 1, 3]`, convert to one-hot encoding using NumPy.\n",
        "\n"
      ],
      "metadata": {
        "id": "9UwU_RwXx_OB"
      }
    },
    {
      "cell_type": "code",
      "source": [
        "def one_hot_encoding(labels: list):\n",
        "    row = len(labels)\n",
        "    col = max(labels) + 1\n",
        "    matrix = np.zeros((row, col))\n",
        "    for l in range(len(labels)):\n",
        "        matrix[l][labels[l]] = 1\n",
        "    return matrix\n",
        "\n",
        "# Improved code:\n",
        "def one_hot_encoding(labels):\n",
        "    labels = np.array(labels)\n",
        "    n_classes = labels.max() + 1\n",
        "    one_hot = np.zeros((len(labels), n_classes), dtype=int)\n",
        "    one_hot[np.arange(len(labels)), labels] = 1\n",
        "    return one_hot\n",
        "\n",
        "print(one_hot_encoding(labels=[0, 2, 1, 3]))\n",
        "print(one_hot_encoding(labels=[1, 1, 2, 5, 7, 4]))"
      ],
      "metadata": {
        "id": "4ZgoLqGjufHb"
      },
      "execution_count": null,
      "outputs": []
    },
    {
      "cell_type": "markdown",
      "source": [
        "### **5. Detect Outliers Using IQR**\n",
        "\n",
        "Given a 1D array, detect all elements that are outliers using the IQR method.\n"
      ],
      "metadata": {
        "id": "0CezkuPnyDHs"
      }
    },
    {
      "cell_type": "markdown",
      "source": [
        "**The Interquartile Range (IQR)** method is a statistical technique used to identify outliers in a dataset. It involves calculating the IQR, which is the range between the first quartile (Q1) and the third quartile (Q3), and then defining upper and lower fences based on 1.5 times the IQR. Data points falling outside these fences are considered outliers.\n",
        "\n",
        "Here's a step-by-step breakdown:\n",
        "\n",
        "1. Calculate the quartiles:\n",
        "- Sort the data in ascending order.\n",
        "- Find the median (Q2), which is the middle value.\n",
        "- Q1 is the median of the lower half of the data (excluding Q2).\n",
        "- Q3 is the median of the upper half of the data (excluding Q2).\n",
        "2. Calculate the IQR:\n",
        "- IQR = Q3 - Q1.\n",
        "3. Determine the outlier fences:\n",
        "- Lower Fence: Q1 - (1.5 * IQR).\n",
        "- Upper Fence: Q3 + (1.5 * IQR).\n",
        "4. Identify outliers:\n",
        "Any data point below the lower fence or above the upper fence is considered an outlier."
      ],
      "metadata": {
        "id": "YZaJmz-HC8zE"
      }
    },
    {
      "cell_type": "code",
      "source": [
        "def find_outliers(arr):\n",
        "    q1 = np.quantile(arr, 0.25)\n",
        "    q3 = np.quantile(arr, 0.75)\n",
        "    median = np.median(arr)\n",
        "\n",
        "    iqr = q3 - q1\n",
        "    lower_fence = q1 - (1.5*iqr)\n",
        "    upper_fence = q3 + (1.5*iqr)\n",
        "    outliers = [i for i in arr if i < lower_fence or i > upper_fence]\n",
        "    return outliers\n",
        "\n",
        "arr = [1, 5, 7, 8, 10, 12, 15, 18, 20, 22, 25, 28, 45]\n",
        "print(find_outliers(arr))\n",
        "\n",
        "arr = [-11, 3, 5, 7, 9, 3, 7, 4, 90]\n",
        "print(find_outliers(arr))"
      ],
      "metadata": {
        "id": "FtHLU63XDAfd"
      },
      "execution_count": null,
      "outputs": []
    },
    {
      "cell_type": "markdown",
      "source": [
        "### **6. Implement a Softmax Function**\n",
        "\n",
        "Implement the softmax activation function using NumPy.\n",
        "\n",
        "\n"
      ],
      "metadata": {
        "id": "FXVGL6XWyLNo"
      }
    },
    {
      "cell_type": "code",
      "source": [
        "def softmax(arr):\n",
        "    activations = []\n",
        "    denominator = np.sum([np.exp(i) for i in arr])\n",
        "    activations = [float(np.exp(i)/ denominator) for i in arr]\n",
        "    return activations\n",
        "\n",
        "# Uses np.exp directly, which can cause overflow for large numbers.\n",
        "# Not vectorized.\n",
        "\n",
        "def softmax(arr):\n",
        "    arr = np.array(arr)\n",
        "    exp_values = np.exp(arr - np.max(arr))  # numerical stability\n",
        "    return exp_values / exp_values.sum()\n",
        "\n",
        "print(softmax([5, 7, 10]))"
      ],
      "metadata": {
        "id": "cuB_KKK5F9T2"
      },
      "execution_count": null,
      "outputs": []
    },
    {
      "cell_type": "markdown",
      "source": [
        "### **7. Flatten and Reconstruct a Matrix**\n",
        "\n",
        "Flatten a 2D matrix into a 1D vector and reshape it back to original shape. Verify that reconstruction is correct.\n"
      ],
      "metadata": {
        "id": "b7im4eJNyOsR"
      }
    },
    {
      "cell_type": "code",
      "source": [
        "def reshape_array(arr):\n",
        "    arr = np.array(arr)\n",
        "    arr_flat = arr.ravel()\n",
        "    arr_reshaped = arr_flat.reshape(len(arr), len(arr[0]))\n",
        "    return arr_flat, arr_reshaped\n",
        "\n",
        "# Improved code:\n",
        "def reshape_array(arr):\n",
        "    arr = np.array(arr)\n",
        "    arr_flat = arr.ravel()\n",
        "    arr_reshaped = arr_flat.reshape(arr.shape)\n",
        "    return arr_flat, arr_reshaped\n",
        "\n",
        "print(reshape_array(arr=[[1, 2, 3], [6, 7, 8]]))"
      ],
      "metadata": {
        "id": "i2KqbLO5ybpZ"
      },
      "execution_count": null,
      "outputs": []
    },
    {
      "cell_type": "markdown",
      "source": [
        "\n",
        "### **8. Compute Pairwise Euclidean Distance**\n",
        "\n",
        "Given two sets of vectors `A` and `B`, compute the full pairwise distance matrix without using loops."
      ],
      "metadata": {
        "id": "su4DMu4-yYmy"
      }
    },
    {
      "cell_type": "code",
      "source": [
        "def compute_distance(vec_a, vec_b):\n",
        "    d = np.sqrt(np.power((vec_b - vec_a), 2))\n",
        "    return d\n",
        "\n",
        "a = np.array((1, 4, 5, 8))\n",
        "b = np.array((3, 5, 7, 9))\n",
        "print(compute_distance(a, b))\n",
        "\n",
        "# Computes element-wise difference, not full Euclidean distance.\n",
        "# Incorrect if goal is scalar distance between two vectors.\n",
        "\n",
        "# Correct code:\n",
        "def compute_distance(vec_a, vec_b):\n",
        "    return np.linalg.norm(vec_b - vec_a)\n",
        "\n",
        "print(compute_distance(a, b))"
      ],
      "metadata": {
        "id": "91dCAsbkIZc1"
      },
      "execution_count": null,
      "outputs": []
    },
    {
      "cell_type": "markdown",
      "source": [
        "\n",
        "### **9. Shuffle Rows Independently**\n",
        "\n",
        "Given a 2D array, shuffle each row **independently**.\n"
      ],
      "metadata": {
        "id": "Ea8qOnYQyeDq"
      }
    },
    {
      "cell_type": "code",
      "source": [
        "def shuffle_row_content(matrix):\n",
        "    rows = len(matrix)\n",
        "    cols = len(matrix[0])\n",
        "    output = []\n",
        "    for r in range(rows):\n",
        "        row = []\n",
        "        for c in range(cols):\n",
        "            row.append(int(matrix[r][c]))\n",
        "            np.random.shuffle(row)\n",
        "        output.append(row)\n",
        "    return output\n",
        "\n",
        "# Logic is broken: it shuffles row incrementally inside a column loop.\n",
        "# np.random.shuffle(row) should happen outside the inner loop.\n",
        "\n",
        "# Imporved code:\n",
        "def shuffle_row_content(matrix):\n",
        "    matrix = np.array(matrix)\n",
        "    return np.array([np.random.permutation(row) for row in matrix])\n",
        "\n",
        "arr_2 = np.array([[1, 2, 3],\n",
        "                   [4, 5, 6],\n",
        "                   [7, 8, 9]])\n",
        "\n",
        "print(shuffle_row_content(arr_2))"
      ],
      "metadata": {
        "id": "TTAGfl5gI5cH"
      },
      "execution_count": null,
      "outputs": []
    },
    {
      "cell_type": "markdown",
      "source": [
        "### **10. Apply Custom Function Across Columns**\n",
        "\n",
        "Given a 2D array, apply a custom function (e.g., `range = max - min`) to each column."
      ],
      "metadata": {
        "id": "jAGOgH2fygwI"
      }
    },
    {
      "cell_type": "code",
      "source": [
        "def custom_function(matrix):\n",
        "    rows, cols = len(matrix), len(matrix[0])\n",
        "    output = []\n",
        "    for i in range(cols):\n",
        "        col = matrix[:, i]\n",
        "        output.append(float(np.max(col) - np.min(col)))\n",
        "    return output\n",
        "\n",
        "arr = np.array([[1, 2, 3],\n",
        "                   [4, 5, 6],\n",
        "                   [7, 8, 9]])\n",
        "\n",
        "# Redundant conversion from list to array.\n",
        "# Better to vectorize using axis=0.\n",
        "\n",
        "# Imporved code:\n",
        "def custom_function(matrix):\n",
        "    matrix = np.array(matrix)\n",
        "    return (matrix.max(axis=0) - matrix.min(axis=0)).tolist()\n",
        "\n",
        "print(custom_function(arr))"
      ],
      "metadata": {
        "id": "y7qx0ZcTN6yE"
      },
      "execution_count": null,
      "outputs": []
    },
    {
      "cell_type": "markdown",
      "source": [
        "### **11. Sum the Alphabet Values**\n",
        "Given a list of strings made up of lowercase or uppercase letters from a to z, return a list of the alphabet sum of each word.\n",
        "\n",
        "The alphabet sum is defined as the sum of the ordinal position of each letter in the English alphabet.\n",
        "For example, a = 1, b = 2, ..., z = 26.\n",
        "So \"sport\" has an alphabet sum of 19 + 16 + 15 + 18 + 20 = 88.\n",
        "\n"
      ],
      "metadata": {
        "id": "7LOzrDJc02RN"
      }
    },
    {
      "cell_type": "code",
      "execution_count": null,
      "metadata": {
        "id": "P-7i3crLYtbP"
      },
      "outputs": [],
      "source": [
        "def sum_alphabet(words):\n",
        "    alphabet = 'abcdefghijklmnopqrstuvwxyz'\n",
        "    alphabet_dict = {}\n",
        "    for i in range(1, len(alphabet)+1):\n",
        "        alphabet_dict[alphabet[i-1]] = i\n",
        "\n",
        "    output = []\n",
        "    for word in words:\n",
        "        sum_value = 0\n",
        "        word.strip().lower()\n",
        "        for letter in word:\n",
        "            if letter.lower() in alphabet_dict:\n",
        "                sum_value += alphabet_dict[letter.lower()]\n",
        "        output.append(sum_value)\n",
        "    return output\n",
        "\n",
        "# word.strip().lower() has no effect since it's not reassigned.\n",
        "# The try block is unnecessary and incorrectly used (except doesn’t handle anything properly).\n",
        "# Minor inefficiencies in repeatedly calling letter.lower() inside the loop.\n",
        "\n",
        "# Improved code:\n",
        "def sum_alphabet(words):\n",
        "    alphabet_dict = {char: idx + 1 for idx, char in enumerate('abcdefghijklmnopqrstuvwxyz')}\n",
        "    output = []\n",
        "    for word in words:\n",
        "        word = word.strip().lower()\n",
        "        sum_value = sum(alphabet_dict.get(ch, 0) for ch in word)\n",
        "        output.append(sum_value)\n",
        "    return output\n",
        "\n",
        "words = [\"sport\", \"Good\", \"bAd\", \" \", \"%cat\"]\n",
        "print(sum_alphabet(words))"
      ]
    },
    {
      "cell_type": "markdown",
      "source": [
        "# ✅ **Review: pratical questions**"
      ],
      "metadata": {
        "id": "0r3skWNECxHE"
      }
    },
    {
      "cell_type": "markdown",
      "source": [
        "\n",
        "### **1. What’s the difference between `reshape()`, `ravel()`, and `flatten()`?**\n",
        "\n",
        "* When do you use each?\n",
        "* What’s the key difference in terms of **copy vs view**?"
      ],
      "metadata": {
        "id": "pMpt-uCJCvTE"
      }
    },
    {
      "cell_type": "code",
      "source": [
        "import numpy as np\n",
        "\n",
        "arr = np.array([[1, 2, 3], [4, 5, 6]])\n",
        "\n",
        "# reshape() – changes shape, returns a new view if possible\n",
        "reshaped = arr.reshape(3, 2)\n",
        "\n",
        "# flatten() – always returns a copy\n",
        "flattened = arr.flatten()\n",
        "\n",
        "# ravel() – returns a flattened view when possible (faster)\n",
        "raveled = arr.ravel()\n",
        "\n",
        "print(\"Reshaped:\\n\", reshaped)\n",
        "print(\"Flattened:\", flattened)\n",
        "print(\"Raveled:\", raveled)\n"
      ],
      "metadata": {
        "colab": {
          "base_uri": "https://localhost:8080/"
        },
        "id": "X6OntkojIG3T",
        "outputId": "c99e502f-5c20-417f-a3c0-ae9be27254fa"
      },
      "execution_count": 6,
      "outputs": [
        {
          "output_type": "stream",
          "name": "stdout",
          "text": [
            "Reshaped:\n",
            " [[1 2]\n",
            " [3 4]\n",
            " [5 6]]\n",
            "Flattened: [1 2 3 4 5 6]\n",
            "Raveled: [1 2 3 4 5 6]\n"
          ]
        }
      ]
    },
    {
      "cell_type": "markdown",
      "source": [
        "###  **2. What is broadcasting in NumPy?**\n",
        "\n",
        "* How does NumPy handle operations between arrays of different shapes?\n",
        "* What’s the result of:\n",
        "\n",
        "  ```python\n",
        "  a = np.array([[1], [2], [3]])\n",
        "  b = np.array([10, 20, 30])\n",
        "  a + b\n",
        "  ```"
      ],
      "metadata": {
        "id": "CSvGSFXnC9mk"
      }
    },
    {
      "cell_type": "code",
      "source": [
        "a = np.array([[1], [2], [3]])    # Shape: (3, 1)\n",
        "b = np.array([10, 20, 30])       # Shape: (3,)\n",
        "\n",
        "result = a + b\n",
        "\n",
        "print(\"Broadcasted Result:\\n\", result)\n",
        "# Output:\n",
        "# [[11 21 31]\n",
        "#  [12 22 32]\n",
        "#  [13 23 33]]\n"
      ],
      "metadata": {
        "colab": {
          "base_uri": "https://localhost:8080/"
        },
        "id": "OZptHJ5TDYXx",
        "outputId": "e091ff84-7ddf-47b2-f062-4ba231dd7604"
      },
      "execution_count": 7,
      "outputs": [
        {
          "output_type": "stream",
          "name": "stdout",
          "text": [
            "Broadcasted Result:\n",
            " [[11 21 31]\n",
            " [12 22 32]\n",
            " [13 23 33]]\n"
          ]
        }
      ]
    },
    {
      "cell_type": "markdown",
      "source": [
        "### **3. How can you filter elements from an array based on a condition?**\n",
        "\n",
        "* Example:\n",
        "\n",
        "  ```python\n",
        "  arr = np.array([5, 10, 15, 20])\n",
        "  # Keep only values > 10\n",
        "  ```"
      ],
      "metadata": {
        "id": "9F9kWGksIXzH"
      }
    },
    {
      "cell_type": "code",
      "source": [
        "arr = np.array([5, 10, 15, 20])\n",
        "\n",
        "# Boolean indexing\n",
        "filtered = arr[arr > 10]  # Keep only values > 10\n",
        "\n",
        "# Using np.where for binary condition\n",
        "binary_mask = np.where(arr > 10, 1, 0)\n",
        "\n",
        "print(\"Filtered:\", filtered)     # [15 20]\n",
        "print(\"Binary mask:\", binary_mask)  # [0 0 1 1]"
      ],
      "metadata": {
        "colab": {
          "base_uri": "https://localhost:8080/"
        },
        "id": "5fH1m2uGIajh",
        "outputId": "a99daa54-03dd-4c55-a653-d101429528e3"
      },
      "execution_count": 9,
      "outputs": [
        {
          "output_type": "stream",
          "name": "stdout",
          "text": [
            "Filtered: [15 20]\n",
            "Binary mask: [0 0 1 1]\n"
          ]
        }
      ]
    },
    {
      "cell_type": "markdown",
      "source": [
        "### **4. How do you compute row-wise and column-wise statistics in a matrix?**\n",
        "\n",
        "* What's the difference between:\n",
        "\n",
        "  ```python\n",
        "  matrix.sum(axis=0) vs matrix.sum(axis=1)\n",
        "  ```"
      ],
      "metadata": {
        "id": "97oZzNTxIv94"
      }
    },
    {
      "cell_type": "code",
      "source": [
        "matrix = np.array([[1, 2, 3],\n",
        "                   [4, 5, 6]])\n",
        "\n",
        "row_sums = matrix.sum(axis=1)    # Sums across columns → row totals\n",
        "col_sums = matrix.sum(axis=0)    # Sums across rows → column totals\n",
        "\n",
        "print(\"Row sums:\", row_sums)     # [ 6 15]\n",
        "print(\"Column sums:\", col_sums)  # [5 7 9]"
      ],
      "metadata": {
        "colab": {
          "base_uri": "https://localhost:8080/"
        },
        "id": "2LGV-velIugI",
        "outputId": "325a0764-ced8-43c7-8eb6-578a58580c98"
      },
      "execution_count": 10,
      "outputs": [
        {
          "output_type": "stream",
          "name": "stdout",
          "text": [
            "Row sums: [ 6 15]\n",
            "Column sums: [5 7 9]\n"
          ]
        }
      ]
    },
    {
      "cell_type": "markdown",
      "source": [
        "### **5. How do you generate reproducible random numbers in NumPy?**\n",
        "\n",
        "* What is the purpose of `np.random.seed()`?\n",
        "* What's the difference between `np.random.rand()`, `randn()`, and `choice()`?"
      ],
      "metadata": {
        "id": "Vp0Rdzd2I_N7"
      }
    },
    {
      "cell_type": "code",
      "source": [
        "np.random.seed(42)  # Ensures the same random output each time\n",
        "\n",
        "# Random float values in [0, 1)\n",
        "rand_vals = np.random.rand(3)      # Uniform\n",
        "\n",
        "# Random normal distribution (mean 0, std 1)\n",
        "randn_vals = np.random.randn(3)\n",
        "\n",
        "# Random choice from a list without replacement\n",
        "choices = np.random.choice([1, 2, 3, 4], size=2, replace=False)\n",
        "\n",
        "print(\"rand:\", rand_vals)\n",
        "print(\"randn:\", randn_vals)\n",
        "print(\"choice:\", choices)"
      ],
      "metadata": {
        "colab": {
          "base_uri": "https://localhost:8080/"
        },
        "id": "5z8z3V8yIvKv",
        "outputId": "bee9b432-fef4-47b3-eb4f-66924a5e3190"
      },
      "execution_count": 11,
      "outputs": [
        {
          "output_type": "stream",
          "name": "stdout",
          "text": [
            "rand: [0.37454012 0.95071431 0.73199394]\n",
            "randn: [-1.11188012  0.31890218  0.27904129]\n",
            "choice: [1 2]\n"
          ]
        }
      ]
    },
    {
      "cell_type": "markdown",
      "source": [
        "### **6. What’s the difference between `np.array_split()` and `np.split()`?**\n",
        "\n",
        "* When would `np.split()` raise an error?\n",
        "* What’s the behavior of `np.array_split(np.array([1, 2, 3, 4, 5]), 3)`?"
      ],
      "metadata": {
        "id": "y8iOAplbJima"
      }
    },
    {
      "cell_type": "code",
      "source": [
        "import numpy as np\n",
        "\n",
        "arr = np.array([1, 2, 3, 4, 5])\n",
        "\n",
        "# np.split() only works if the array can be evenly divided\n",
        "# np.split(arr, 3)  # ❌ This will raise an error: ValueError\n",
        "\n",
        "# np.array_split() allows unequal splits\n",
        "splits = np.array_split(arr, 3)\n",
        "print(splits)  # [array([1, 2]), array([3, 4]), array([5])]\n"
      ],
      "metadata": {
        "colab": {
          "base_uri": "https://localhost:8080/"
        },
        "id": "au491IfgJo2h",
        "outputId": "288d7c37-1123-4cc7-90b2-9d8acb6fe3f5"
      },
      "execution_count": 12,
      "outputs": [
        {
          "output_type": "stream",
          "name": "stdout",
          "text": [
            "[array([1, 2]), array([3, 4]), array([5])]\n"
          ]
        }
      ]
    },
    {
      "cell_type": "markdown",
      "source": [
        "### **7. How do you compute the quantiles (like Q1 and Q3) of an array?**\n",
        "\n",
        "* How would you use that to identify outliers using the IQR method?"
      ],
      "metadata": {
        "id": "W7yMtO9nK24q"
      }
    },
    {
      "cell_type": "code",
      "source": [
        "arr = np.array([5, 7, 8, 10, 15, 18, 20, 22, 25, 28, 45, 87])\n",
        "\n",
        "q1 = np.quantile(arr, 0.25)\n",
        "q3 = np.quantile(arr, 0.75)\n",
        "iqr = q3 - q1\n",
        "\n",
        "lower_bound = q1 - 1.5 * iqr\n",
        "upper_bound = q3 + 1.5 * iqr\n",
        "\n",
        "outliers = arr[(arr < lower_bound) | (arr > upper_bound)]\n",
        "\n",
        "print(\"Q1:\", q1)\n",
        "print(\"Q3:\", q3)\n",
        "print(\"Outliers:\", outliers)"
      ],
      "metadata": {
        "colab": {
          "base_uri": "https://localhost:8080/"
        },
        "id": "dLNlEMqyK_q9",
        "outputId": "39f87945-9015-4160-f8c6-68a29dd4e911"
      },
      "execution_count": 14,
      "outputs": [
        {
          "output_type": "stream",
          "name": "stdout",
          "text": [
            "Q1: 9.5\n",
            "Q3: 25.75\n",
            "Outliers: [87]\n"
          ]
        }
      ]
    },
    {
      "cell_type": "markdown",
      "source": [
        "### **8. How do you perform matrix multiplication in NumPy?**\n",
        "\n",
        "* What’s the difference between `@`, `np.dot()`, and `np.matmul()`?\n",
        "* When should you prefer one over the other?\n",
        "\n",
        "> Use @ for readability in ML models.\n",
        "\n",
        "> All are functionally the same for 2D arrays. np.matmul() works with batches too."
      ],
      "metadata": {
        "id": "R_fhN9VhMG7s"
      }
    },
    {
      "cell_type": "code",
      "source": [
        "A = np.array([[1, 2],\n",
        "              [3, 4]])\n",
        "\n",
        "B = np.array([[5, 6],\n",
        "              [7, 8]])\n",
        "\n",
        "# Three equivalent ways to do matrix multiplication\n",
        "print(\"Using @:\\n\", A @ B)\n",
        "print(\"Using dot():\\n\", np.dot(A, B))\n",
        "print(\"Using matmul():\\n\", np.matmul(A, B))"
      ],
      "metadata": {
        "colab": {
          "base_uri": "https://localhost:8080/"
        },
        "id": "C-BdgxtaMFRs",
        "outputId": "6f994385-b2f6-4b9c-8024-f9552e47a8b5"
      },
      "execution_count": 15,
      "outputs": [
        {
          "output_type": "stream",
          "name": "stdout",
          "text": [
            "Using @:\n",
            " [[19 22]\n",
            " [43 50]]\n",
            "Using dot():\n",
            " [[19 22]\n",
            " [43 50]]\n",
            "Using matmul():\n",
            " [[19 22]\n",
            " [43 50]]\n"
          ]
        }
      ]
    },
    {
      "cell_type": "markdown",
      "source": [
        "### **9. How can you shuffle the rows of a 2D array?**\n",
        "\n",
        "* And how would you shuffle each row **independently**?"
      ],
      "metadata": {
        "id": "wY2x9p-ZMeQi"
      }
    },
    {
      "cell_type": "code",
      "source": [
        "arr = np.array([[1, 2, 3],\n",
        "                [4, 5, 6],\n",
        "                [7, 8, 9]])\n",
        "\n",
        "# Shuffle rows (in-place on a copy)\n",
        "shuffled = np.copy(arr)\n",
        "np.random.shuffle(shuffled)\n",
        "print(\"Shuffled rows:\\n\", shuffled)\n",
        "\n",
        "# Shuffle contents of each row independently\n",
        "independently_shuffled = np.array([np.random.permutation(row) for row in arr])\n",
        "print(\"Each row shuffled:\\n\", independently_shuffled)"
      ],
      "metadata": {
        "colab": {
          "base_uri": "https://localhost:8080/"
        },
        "id": "xiNJtmPIMeD8",
        "outputId": "db0748ff-b68a-4d1b-9406-9ef13674cd86"
      },
      "execution_count": 16,
      "outputs": [
        {
          "output_type": "stream",
          "name": "stdout",
          "text": [
            "Shuffled rows:\n",
            " [[7 8 9]\n",
            " [4 5 6]\n",
            " [1 2 3]]\n",
            "Each row shuffled:\n",
            " [[1 3 2]\n",
            " [4 6 5]\n",
            " [8 9 7]]\n"
          ]
        }
      ]
    },
    {
      "cell_type": "markdown",
      "source": [
        "### **10. How can you create a one-hot encoded matrix from a list of integer labels?**\n",
        "\n",
        "* Input: `[0, 2, 1]`\n",
        "* Output:\n",
        "\n",
        "  ```\n",
        "  [[1, 0, 0],\n",
        "   [0, 0, 1],\n",
        "   [0, 1, 0]]\n",
        "  ```\n",
        "\n",
        "\n",
        "\n"
      ],
      "metadata": {
        "id": "RsdW9Kmc_7w9"
      }
    },
    {
      "cell_type": "code",
      "source": [
        "labels = np.array([0, 2, 1])\n",
        "n_classes = labels.max() + 1  # Automatically infers number of classes\n",
        "\n",
        "one_hot = np.zeros((len(labels), n_classes), dtype=int) # Shape: (number of samples, number of classes)\n",
        "\n",
        "#one_hot[rows, columns] = 1\n",
        "one_hot[np.arange(len(labels)), labels] = 1\n",
        "# np.arange(len(labels)) picks the row indices\n",
        "# labels gives the column indices\n",
        "# Together, they point to the \"1\" positions in the one-hot array.\n",
        "\n",
        "print(one_hot)\n",
        "# Output:\n",
        "# [[1 0 0]\n",
        "#  [0 0 1]\n",
        "#  [0 1 0]]\n"
      ],
      "metadata": {
        "id": "3addygyJQX6x"
      },
      "execution_count": null,
      "outputs": []
    },
    {
      "cell_type": "markdown",
      "source": [
        "**What is `np.arange()`?**\n",
        "\n",
        "`np.arange()` is a NumPy function that returns an array with evenly spaced values within a **given range** — just like Python’s built-in `range()`, but as a NumPy array.\n",
        "\n",
        "**Syntax**\n",
        "\n",
        "```python\n",
        "np.arange([start,] stop[, step], dtype=None)\n",
        "```\n",
        "\n",
        "* `start`: Starting value (default = 0)\n",
        "* `stop`: **End value (excluded)**\n",
        "* `step`: Difference between consecutive values (default = 1)\n",
        "* `dtype`: Optional, specify data type (e.g., `int`, `float`)\n",
        "\n",
        "**Examples**\n",
        "\n",
        "```python\n",
        "np.arange(5)                    # [0 1 2 3 4]\n",
        "np.arange(2, 7)                 # [2 3 4 5 6]\n",
        "np.arange(1, 10, 2)             # [1 3 5 7 9]\n",
        "np.arange(0.5, 2.5, 0.5)        # [0.5 1.  1.5 2. ]\n",
        "np.arange(10, 0, -2)            # [10  8  6  4  2]\n",
        "```\n",
        "\n",
        "**Use Case in One-Hot Encoding**\n",
        "\n",
        "Let’s say:\n",
        "\n",
        "```python\n",
        "labels = np.array([0, 2, 1])\n",
        "```\n",
        "\n",
        "We want to create this one-hot encoded matrix:\n",
        "\n",
        "```\n",
        "[[1, 0, 0],\n",
        " [0, 0, 1],\n",
        " [0, 1, 0]]\n",
        "```\n",
        "\n",
        "To fill the **rows 0, 1, 2**, we need the row indices:\n",
        "\n",
        "```python\n",
        "np.arange(len(labels))  →  [0, 1, 2]\n",
        "```\n",
        "\n",
        "These are just `[0, 1, 2]`, the **row numbers** in the output matrix.\n",
        "\n",
        "Paired with:\n",
        "\n",
        "```python\n",
        "labels = [0, 2, 1]  # column numbers\n",
        "```\n",
        "\n",
        "We now assign the value `1` to each corresponding `[row, col]` position:\n",
        "\n",
        "```python\n",
        "one_hot[np.arange(len(labels)), labels] = 1\n",
        "```\n",
        "**Summary**\n",
        "\n",
        "`np.arange()` is:\n",
        "\n",
        "* Like Python’s `range()` but returns a NumPy array\n",
        "* Used to generate **row indices**, **time steps**, **batch indices**, etc.\n",
        "* Key for vectorized indexing patterns like one-hot encoding\n"
      ],
      "metadata": {
        "id": "oFdMMzbvSMdc"
      }
    },
    {
      "cell_type": "markdown",
      "source": [
        "# ✅ **Numpy for ML Engineering**\n"
      ],
      "metadata": {
        "id": "a88r-3wNwIXx"
      }
    },
    {
      "cell_type": "markdown",
      "source": [
        "## **1. Vectorization and Broadcasting**\n",
        "\n",
        "**Concept:**\n",
        "\n",
        "Vectorization is replacing explicit Python loops with NumPy operations that run in compiled code for better performance. Broadcasting lets NumPy perform operations on arrays of different shapes.\n",
        "\n",
        "**Why It Matters:**\n",
        "\n",
        "* Speeds up code dramatically\n",
        "* Reduces memory footprint\n",
        "* Leads to cleaner, more readable code\n",
        "\n",
        "**Usage Tips:**\n",
        "\n",
        "* Use `np.where`, `np.sum`, `np.mean`, `np.dot`, etc. instead of manual loops.\n",
        "* Understand shape rules of broadcasting.\n",
        "\n",
        "**Example:**\n",
        "\n",
        "```python\n",
        "# BAD: Loop-based\n",
        "output = []\n",
        "for x in arr:\n",
        "    output.append(x ** 2)\n",
        "\n",
        "# GOOD: Vectorized\n",
        "output = arr ** 2\n",
        "```\n",
        "\n",
        "**Broadcasting:**\n",
        "\n",
        "```python\n",
        "# Broadcasting a scalar\n",
        "arr = np.array([1, 2, 3])\n",
        "arr + 5  # [6, 7, 8]\n",
        "\n",
        "# Broadcasting a row vector across rows\n",
        "matrix = np.array([[1, 2, 3], [4, 5, 6]])\n",
        "row_mean = matrix.mean(axis=1, keepdims=True)\n",
        "normalized = matrix - row_mean\n",
        "```"
      ],
      "metadata": {
        "id": "_V7v2LlSi_TY"
      }
    },
    {
      "cell_type": "markdown",
      "source": [
        "## **2. Numerical Stability**\n",
        "\n",
        "**Concept:**\n",
        "\n",
        "Certain mathematical operations (like softmax) can cause **overflow or underflow**. Overflow means a number is too large to be represented (e.g., `np.exp(1000)` → `inf`). Underflow means a number is too small (close to zero), and might be rounded down to `0.0`.\n",
        "\n",
        "**Why It Matters:**\n",
        "\n",
        "Unstable code may give `inf`, `NaN`, or misleading values in real ML pipelines.\n",
        "\n",
        "**Best Practices:**\n",
        "\n",
        "* Subtract max before applying `exp` in softmax.\n",
        "* Use log-space tricks (`logsumexp`, etc.)\n",
        "\n",
        "**Example:**\n",
        "\n",
        "```python\n",
        "def stable_softmax(x):\n",
        "    e_x = np.exp(x - np.max(x))\n",
        "    return e_x / e_x.sum()\n",
        "```"
      ],
      "metadata": {
        "id": "7spT9e5RkYur"
      }
    },
    {
      "cell_type": "markdown",
      "source": [
        "## **3. Defensive Programming**\n",
        "\n",
        "**Concept:**\n",
        "\n",
        "Write functions that don't crash on edge cases like empty arrays, NaNs, or zero-division.\n",
        "\n",
        "**Why It Matters:**\n",
        "\n",
        "In production or research, you can't afford silent failures.\n",
        "\n",
        "**Best Practices:**\n",
        "\n",
        "* Check array length before division.\n",
        "* Use `np.isnan`, `np.isinf`, `np.any`, `np.all` to inspect array health.\n",
        "* Return default values where appropriate.\n",
        "\n",
        "**Example:**\n",
        "\n",
        "```python\n",
        "def normalize(x):\n",
        "    x = np.array(x)\n",
        "    if x.std() == 0:\n",
        "        return np.zeros_like(x)\n",
        "    return (x - x.mean()) / x.std()\n",
        "```"
      ],
      "metadata": {
        "id": "YtiUCqCEkq9L"
      }
    },
    {
      "cell_type": "markdown",
      "source": [
        "## **4. Efficient Indexing and Masking**\n",
        "\n",
        "**Concept:**\n",
        "\n",
        "Use Boolean indexing to select or manipulate data without loops. Boolean indexing means using a boolean array (of `True`/`False` values) to select elements of another array. The elements corresponding to `True` are kept.\n",
        "\n",
        "**Why It Matters:**\n",
        "\n",
        "Masking makes filtering data simple and fast.\n",
        "\n",
        "**Usage Tips:**\n",
        "\n",
        "* Combine masks using `&`, `|` with parentheses.\n",
        "* Use `np.where` for ternary conditions.\n",
        "\n",
        "**Example:**\n",
        "\n",
        "```python\n",
        "arr = np.array([1, 5, 7, 10])\n",
        "mask = arr > 5\n",
        "arr[mask]  # [7, 10]\n",
        "\n",
        "np.where(arr > 5, 1, 0)  # [0, 0, 1, 1]\n",
        "```"
      ],
      "metadata": {
        "id": "KQByzphmlDZh"
      }
    },
    {
      "cell_type": "markdown",
      "source": [
        "## **5. Array Manipulation Mastery**\n",
        "\n",
        "**Concept:**\n",
        "\n",
        "Know when and how to reshape, flatten, expand or squeeze dimensions.\n",
        "\n",
        "**Why It Matters:**\n",
        "\n",
        "ML input pipelines often require reshaped or batched data.\n",
        "\n",
        "**Tips:**\n",
        "\n",
        "* Use `.reshape()`, `.flatten()`, `.squeeze()`, `np.expand_dims()`\n",
        "* Avoid reshaping that breaks data order\n",
        "\n",
        "**Example:**\n",
        "\n",
        "```python\n",
        "x = np.array([[1, 2], [3, 4]])\n",
        "x.reshape(-1)         # [1 2 3 4]\n",
        "x.reshape(1, 4)        # [[1 2 3 4]]\n",
        "x.flatten()           # [1 2 3 4] (copy)\n",
        "x.ravel()             # view (if possible)\n",
        "```"
      ],
      "metadata": {
        "id": "GdovPM6RlYlT"
      }
    },
    {
      "cell_type": "markdown",
      "source": [
        "## 6. Advanced Aggregations and Stats\n",
        "\n",
        "**Concept:**\n",
        "\n",
        "Use axis-based operations and aggregation functions effectively.\n",
        "\n",
        "**Why It Matters:**\n",
        "\n",
        "Summarizing data across rows or columns is key for ML feature engineering.\n",
        "\n",
        "**Tips:**\n",
        "\n",
        "* Learn `np.sum`, `np.mean`, `np.std`, `np.median`, `np.quantile`, `np.argmax`, `np.bincount`\n",
        "* Use `axis=` parameter wisely\n",
        "\n",
        "**Example:**\n",
        "\n",
        "```python\n",
        "matrix = np.array([[1, 2, 3], [4, 5, 6]])\n",
        "matrix.mean(axis=0)  # mean per column\n",
        "matrix.sum(axis=1)   # sum per row\n",
        "```"
      ],
      "metadata": {
        "id": "f1BX6iWXlvAV"
      }
    },
    {
      "cell_type": "markdown",
      "source": [
        "## **7. Randomness and Reproducibility**\n",
        "\n",
        "**Concept:**\n",
        "\n",
        "Use NumPy's `random` module for consistent random sampling.\n",
        "\n",
        "**Why It Matters:**\n",
        "\n",
        "In experiments, reproducibility is essential.\n",
        "\n",
        "**Tips:**\n",
        "\n",
        "* Use `np.random.seed()` before randomness\n",
        "* Use `np.random.permutation`, `shuffle`, `choice`, `randn`, `randint`\n",
        "\n",
        "**Example:**\n",
        "\n",
        "```python\n",
        "np.random.seed(42)\n",
        "np.random.choice([1, 2, 3], size=2, replace=False)\n",
        "```"
      ],
      "metadata": {
        "id": "L7JbFR_4S8Y_"
      }
    },
    {
      "cell_type": "markdown",
      "source": [],
      "metadata": {
        "id": "AO05lGlvmjtl"
      }
    },
    {
      "cell_type": "markdown",
      "source": [
        "# ✅ **Unit Tests**\n",
        "\n",
        "**1. Use `unittest` or `pytest`**\n",
        "\n",
        "You can write tests using Python’s built-in `unittest`, or the more flexible `pytest`. Both support NumPy.\n",
        "\n",
        "\n",
        "**2. Use NumPy's Assertion Helpers**\n",
        "\n",
        "Instead of `assertEqual()` or `==`, use:\n",
        "\n",
        "* `np.testing.assert_array_equal()` – for exact match\n",
        "* `np.testing.assert_allclose()` – for floating-point arrays (with tolerance)\n",
        "* `np.testing.assert_array_almost_equal()` – deprecated, but still used in legacy tests\n",
        "\n",
        "**Example 1: Using `unittest`**\n",
        "\n",
        "```python\n",
        "import unittest\n",
        "import numpy as np\n",
        "from your_module import normalize_features\n",
        "\n",
        "class TestNormalizeFeatures(unittest.TestCase):\n",
        "    def test_normalization(self):\n",
        "        x = np.array([[1, 2, 3], [4, 5, 6]])\n",
        "        normalized = normalize_features(x)\n",
        "\n",
        "        # Check mean ≈ 0, std ≈ 1 per row\n",
        "        means = normalized.mean(axis=1)\n",
        "        stds = normalized.std(axis=1)\n",
        "        \n",
        "        np.testing.assert_allclose(means, 0, atol=1e-7)\n",
        "        np.testing.assert_allclose(stds, 1, atol=1e-7)\n",
        "\n",
        "if __name__ == '__main__':\n",
        "    unittest.main()\n",
        "```\n",
        "\n",
        "**Example 2: Using `pytest`**\n",
        "\n",
        "Create a file `test_processing.py`:\n",
        "\n",
        "```python\n",
        "import numpy as np\n",
        "from your_module import sum_alphabet\n",
        "\n",
        "def test_sum_alphabet():\n",
        "    words = [\"abc\", \"Good\", \"\", \"%a\"]\n",
        "    expected = [6, 41, 0, 1]\n",
        "    result = sum_alphabet(words)\n",
        "\n",
        "    np.testing.assert_array_equal(result, expected)\n",
        "```\n",
        "\n",
        "Then run:\n",
        "\n",
        "```bash\n",
        "pytest test_processing.py\n",
        "```\n",
        "\n",
        "**Summary of NumPy Assertion Functions**\n",
        "\n",
        "| Function                          | Use When…                                  |\n",
        "| --------------------------------- | ------------------------------------------ |\n",
        "| `assert_array_equal(a, b)`        | Exact equality                             |\n",
        "| `assert_allclose(a, b, atol=...)` | Floating-point match within tolerance      |\n",
        "| `assert_array_less(a, b)`         | Each element in `a` < corresponding in `b` |\n",
        "| `assert_raises`                   | Expecting an error                         |\n",
        "\n",
        "\n",
        "**Tips**\n",
        "\n",
        "* Always test **edge cases**: empty arrays, zeros, all identical values, etc.\n",
        "* Use `keepdims=True` and `axis` carefully — test shape too!\n",
        "* Add tests for invalid inputs (e.g., shape mismatch)\n"
      ],
      "metadata": {
        "id": "zApjZiNUmR4y"
      }
    },
    {
      "cell_type": "markdown",
      "source": [
        "# ✅**Interview-style practice problem**"
      ],
      "metadata": {
        "id": "hqHcc62tYvcW"
      }
    },
    {
      "cell_type": "markdown",
      "source": [
        "### **1. Normalize, Filter, and One-Hot Encode**\n",
        "\n",
        "You are given a list of numeric feature vectors and a corresponding list of integer class labels.\n",
        "\n",
        "**Task:**\n",
        "\n",
        "Write a function `process_data(features, labels)` that:\n",
        "\n",
        "1. **Normalizes** each feature vector to have zero mean and unit standard deviation.\n",
        "2. **Filters out** any vectors whose mean (before normalization) is less than a given threshold.\n",
        "3. Returns:\n",
        "\n",
        "   * The **normalized and filtered feature matrix**\n",
        "   * The **one-hot encoded labels** for the rows that passed the filter\n",
        "\n",
        "Inputs\n",
        "\n",
        "* `features`: A 2D list or NumPy array of shape `(n_samples, n_features)`\n",
        "* `labels`: A 1D list or NumPy array of length `n_samples`\n",
        "* `threshold`: A float indicating the minimum required mean value of the original feature vector\n",
        "\n",
        "Example:\n",
        "\n",
        "```python\n",
        "features = [\n",
        "    [1, 2, 3],\n",
        "    [10, 10, 10],\n",
        "    [0, 0, 1],\n",
        "    [-5, -3, -1]\n",
        "]\n",
        "\n",
        "labels = [0, 2, 1, 1]\n",
        "threshold = 3.0\n",
        "```\n"
      ],
      "metadata": {
        "id": "ZFM2FnqSnnFO"
      }
    },
    {
      "cell_type": "code",
      "source": [
        "import numpy as np\n",
        "\n",
        "def process_data(features, labels, threshold = 0):\n",
        "    # Convert inputs to Numpy arrays\n",
        "    features = np.array(features)\n",
        "    labels = np.array(labels)\n",
        "\n",
        "    # Step 1: Compute row-wise mean of original features\n",
        "    row_means = features.mean(axis=1)\n",
        "\n",
        "    # Step 2: Filter rows where mean >= threshold\n",
        "    mask = row_means >= threshold\n",
        "    filtered_features = features[mask]\n",
        "    filtered_labels = labels[mask]\n",
        "\n",
        "    # Step 3: Normalize each row independently\n",
        "    # (x - mean) / std, row_wise\n",
        "    means = filtered_features.mean(axis=1, keepdims=True)\n",
        "    stds = filtered_features.std(axis=1, keepdims=True)\n",
        "\n",
        "    # Avoid division by zero\n",
        "    stds[stds == 0] = 1\n",
        "    normalized_features = (filtered_features - means) / stds\n",
        "\n",
        "    # 4. One-hot encode the filtered labels\n",
        "    n_classes = filtered_labels.max() + 1\n",
        "    one_hot = np.zeros((len(filtered_labels), n_classes), dtype=int)\n",
        "    one_hot[np.arange(len(filtered_labels)), filtered_labels] = 1\n",
        "\n",
        "    return normalized_features, one_hot\n",
        "\n",
        "features = [\n",
        "    [1, 2, 3],        # mean = 2.0\n",
        "    [10, 10, 10],     # mean = 10.0\n",
        "    [0, 0, 1],        # mean ≈ 0.33\n",
        "    [-5, -3, -1]      # mean = -3.0\n",
        "]\n",
        "\n",
        "labels = [0, 2, 1, 1]\n",
        "threshold = 3.0\n",
        "\n",
        "X_norm, y_onehot = process_data(features, labels, threshold)\n",
        "\n",
        "print(\"Normalized Features:\\n\", X_norm)\n",
        "print(\"One-Hot Labels:\\n\", y_onehot)\n"
      ],
      "metadata": {
        "colab": {
          "base_uri": "https://localhost:8080/"
        },
        "id": "mDRKF6LGWoMp",
        "outputId": "5df2a430-c6c4-4dba-80c4-6248329ffc98"
      },
      "execution_count": null,
      "outputs": [
        {
          "output_type": "stream",
          "name": "stdout",
          "text": [
            "Normalized Features:\n",
            " [[0. 0. 0.]]\n",
            "One-Hot Labels:\n",
            " [[0 0 1]]\n"
          ]
        }
      ]
    },
    {
      "cell_type": "markdown",
      "source": [
        "| Use Case                                             | Normalize **Row-wise** | Normalize **Column-wise** |\n",
        "| ---------------------------------------------------- | ---------------------- | ------------------------- |\n",
        "| Each sample is independent and scaled differently    | ✅                      | ❌                         |\n",
        "| You’re preparing features for ML model input         | ❌                      | ✅                         |\n",
        "| You’re filtering based on a sample-level condition   | ✅                      | ❌                         |\n",
        "| You want consistent feature influence across samples | ❌                      | ✅                         |\n"
      ],
      "metadata": {
        "id": "xIKuGlMWb9TC"
      }
    },
    {
      "cell_type": "markdown",
      "source": [
        "Let’s unpack why we used this:\n",
        "\n",
        "```python\n",
        "means = filtered_features.mean(axis=1, keepdims=True)\n",
        "stds  = filtered_features.std(axis=1, keepdims=True)\n",
        "```\n",
        "\n",
        "instead of:\n",
        "\n",
        "```python\n",
        "means = np.mean(filtered_features)\n",
        "stds  = np.std(filtered_features)\n",
        "```\n",
        "\n",
        "The Key Difference: *Axis Matters*\n",
        "\n",
        "**1. `np.mean(filtered_features)`**\n",
        "\n",
        "Computes **the mean over all elements** in the 2D array (scalar output).\n",
        "This would normalize the entire dataset globally.\n",
        "\n",
        "**2. `filtered_features.mean(axis=1, keepdims=True)`**\n",
        "\n",
        "Computes **the mean across each row**, returning a 2D array shaped `(n_samples, 1)` — one mean per sample.\n",
        "\n",
        "\n",
        "**Why `axis=1` and `keepdims=True`?**\n",
        "\n",
        "| Parameter       | Purpose                                                                                             |\n",
        "| --------------- | --------------------------------------------------------------------------------------------------- |\n",
        "| `axis=1`        | Tells NumPy: “calculate along the columns of each row”                                              |\n",
        "| `keepdims=True` | Keeps the result as a **column vector**, so it **broadcasts correctly** in subtraction and division |\n",
        "\n",
        "Without `keepdims=True`, you'd get a shape mismatch:\n",
        "\n",
        "```python\n",
        "(3, 3) - (3,)  # This would work, but it's broadcasted row-wise as a 1D\n",
        "(3, 3) - (3, 1)  # This is safer and clearer\n",
        "```\n",
        "\n",
        "**Summary**\n",
        "\n",
        "| Expression                      | Meaning                         | Shape                                     |\n",
        "| ------------------------------- | ------------------------------- | ----------------------------------------- |\n",
        "| `np.mean(x)`                    | Mean of **all elements**        | Scalar                                    |\n",
        "| `x.mean(axis=0)`                | Mean of each column (feature)   | (n\\_features,)                            |\n",
        "| `x.mean(axis=1)`                | Mean of each row (sample)       | (n\\_samples,)                             |\n",
        "| `x.mean(axis=1, keepdims=True)` | Mean of each row, **as column** | (n\\_samples, 1) ✅ useful for broadcasting |\n",
        "\n"
      ],
      "metadata": {
        "id": "GDz1qIWjdW96"
      }
    },
    {
      "cell_type": "markdown",
      "source": [
        "**Why is this line used?**\n",
        "\n",
        "```python\n",
        "stds[stds == 0] = 1\n",
        "```\n",
        "\n",
        "Because in normalization:\n",
        "\n",
        "```python\n",
        "normalized = (x - mean) / std\n",
        "```\n",
        "\n",
        "If `std == 0`, you would get:\n",
        "\n",
        "```python\n",
        "(0 / 0) → NaN\n",
        "```\n",
        "\n",
        "or worse:\n",
        "\n",
        "```python\n",
        "x / 0 → ∞ or crash\n",
        "```\n",
        "\n",
        "**Why replace 0 with 1?**\n",
        "\n",
        "It’s a **safe default**:\n",
        "\n",
        "* If a sample has **no variation** (e.g. `[10, 10, 10]`), its std = 0.\n",
        "* Subtracting the mean gives `[0, 0, 0]`\n",
        "* Dividing by 1 still gives `[0, 0, 0]`\n",
        "\n",
        "This preserves the fact that all elements are identical **without introducing NaN or Inf.**\n",
        "\n",
        "Example:\n",
        "\n",
        "```python\n",
        "x = np.array([[10, 10, 10],\n",
        "              [1, 2, 3]])\n",
        "\n",
        "mean = x.mean(axis=1, keepdims=True)\n",
        "std = x.std(axis=1, keepdims=True)\n",
        "\n",
        "# Defensive patch\n",
        "std[std == 0] = 1\n",
        "\n",
        "z = (x - mean) / std\n",
        "print(z)\n",
        "```\n",
        "\n",
        "Output:\n",
        "\n",
        "```\n",
        "[[ 0.          0.          0.        ]\n",
        " [-1.22474487  0.          1.22474487]]\n",
        "```\n",
        "\n",
        "---\n",
        "\n",
        "**Summary:**\n",
        "\n",
        "| Case                       | Why it happens                   | Fix                   |\n",
        "| -------------------------- | -------------------------------- | --------------------- |\n",
        "| Standard deviation is zero | All values are equal             | Replace std with 1    |\n",
        "| Why 1?                     | Keeps normalized output as zeros | Avoids division error |"
      ],
      "metadata": {
        "id": "3VzBgFMBiKEF"
      }
    },
    {
      "cell_type": "code",
      "source": [],
      "metadata": {
        "id": "e1YsJc8PiJz1"
      },
      "execution_count": null,
      "outputs": []
    }
  ]
}